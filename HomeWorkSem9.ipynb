{
  "nbformat": 4,
  "nbformat_minor": 0,
  "metadata": {
    "colab": {
      "provenance": [],
      "toc_visible": true
    },
    "kernelspec": {
      "name": "python3",
      "display_name": "Python 3"
    },
    "language_info": {
      "name": "python"
    }
  },
  "cells": [
    {
      "cell_type": "markdown",
      "source": [
        "# ДЗ, 9-й семинар\n",
        "\n",
        "---\n",
        "\n"
      ],
      "metadata": {
        "id": "ZYvs4NjtFq6C"
      }
    },
    {
      "cell_type": "markdown",
      "source": [
        "Задача 40:\n",
        "\n",
        "Работать с файлом california_housing_train.csv, который находится в папке\n",
        "sample_data.\n",
        "\n",
        "Определить среднюю стоимость дома, где кол-во людей от 0 до 500 (population)\n"
      ],
      "metadata": {
        "id": "rHsykwayzC7X"
      }
    },
    {
      "cell_type": "code",
      "source": [
        "import pandas as pd"
      ],
      "metadata": {
        "id": "Wm-fmUzEzMdN"
      },
      "execution_count": 2,
      "outputs": []
    },
    {
      "cell_type": "code",
      "source": [
        "df = pd.read_csv('sample_data/california_housing_train.csv')\n",
        "# Работать с файлом california_housing_train.csv, который находится в папке sample_data."
      ],
      "metadata": {
        "id": "MfpzL_IVzd2G"
      },
      "execution_count": 3,
      "outputs": []
    },
    {
      "cell_type": "code",
      "source": [
        "df[(df['population'] <= 500)]['median_house_value'].mean().round(2)\n",
        "# Определить среднюю стоимость дома, где кол-во людей от 0 до 500 (population)"
      ],
      "metadata": {
        "colab": {
          "base_uri": "https://localhost:8080/"
        },
        "id": "CoC48rc0Btbz",
        "outputId": "f4b2d28d-7b93-4f56-9130-9b8926c34a04"
      },
      "execution_count": 4,
      "outputs": [
        {
          "output_type": "execute_result",
          "data": {
            "text/plain": [
              "206799.95"
            ]
          },
          "metadata": {},
          "execution_count": 4
        }
      ]
    },
    {
      "cell_type": "markdown",
      "source": [
        "\n",
        "\n",
        "---\n",
        "\n"
      ],
      "metadata": {
        "id": "xrcSvVSRTRjY"
      }
    },
    {
      "cell_type": "markdown",
      "source": [
        "Задача 42:\n",
        "\n",
        "Узнать какая максимальная households в зоне минимального значения population\n"
      ],
      "metadata": {
        "id": "jEEf39o_zHzN"
      }
    },
    {
      "cell_type": "code",
      "source": [
        "df[df['population'] == df['population'].min()].households.max()\n",
        "# Узнать какая максимальная households в зоне минимального значения population"
      ],
      "metadata": {
        "colab": {
          "base_uri": "https://localhost:8080/"
        },
        "id": "v5SxZJ0D87GU",
        "outputId": "176d9b7c-ce83-4e00-e2fd-89c44de36d9a"
      },
      "execution_count": 5,
      "outputs": [
        {
          "output_type": "execute_result",
          "data": {
            "text/plain": [
              "4.0"
            ]
          },
          "metadata": {},
          "execution_count": 5
        }
      ]
    }
  ]
}